{
 "cells": [
  {
   "cell_type": "code",
   "execution_count": 15,
   "metadata": {},
   "outputs": [],
   "source": [
    "\n",
    "# Helper Functions #\n",
    "from itertools import chain\n",
    "import textwrap\n",
    "import pandas as pd\n",
    "import json\n",
    "from utils.dataLoader import load_all_data\n",
    "from utils.query import *\n",
    "from plots.interactiveMap import hp_interactive_darkmatter\n",
    "\n",
    "## Load Data and Define Holidays\n",
    "(\n",
    "    hp_df,\n",
    "    route_df,\n",
    "    airport_df,\n",
    "    flight_intersections,\n",
    "    airport_intersections\n",
    ") = load_all_data()\n",
    "\n",
    "state = None\n",
    "event_type = 'Plane_Crash'\n",
    "apparition_type = None\n",
    "year_range = None\n",
    "holiday = None\n",
    "airport_types = ['all']\n",
    "coloring = {'Event_Type': get_legend_items(hp_df, 'Event_Type')}\n",
    "additional_tags = []\n",
    "airport_visibility = ['all']\n"
   ]
  }
 ],
 "metadata": {
  "kernelspec": {
   "display_name": "hauntedflights",
   "language": "python",
   "name": "python3"
  },
  "language_info": {
   "codemirror_mode": {
    "name": "ipython",
    "version": 3
   },
   "file_extension": ".py",
   "mimetype": "text/x-python",
   "name": "python",
   "nbconvert_exporter": "python",
   "pygments_lexer": "ipython3",
   "version": "3.11.11"
  }
 },
 "nbformat": 4,
 "nbformat_minor": 2
}
